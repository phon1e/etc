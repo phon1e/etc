{
  "cells": [
    {
      "cell_type": "markdown",
      "metadata": {
        "id": "view-in-github",
        "colab_type": "text"
      },
      "source": [
        "<a href=\"https://colab.research.google.com/github/phon1e/etc/blob/main/google_dl_ipynb_phonie.ipynb\" target=\"_parent\"><img src=\"https://colab.research.google.com/assets/colab-badge.svg\" alt=\"Open In Colab\"/></a>"
      ]
    },
    {
      "cell_type": "markdown",
      "metadata": {
        "id": "gw2uyMbpXW6w"
      },
      "source": [
        "# download lib"
      ]
    },
    {
      "cell_type": "code",
      "execution_count": null,
      "metadata": {
        "colab": {
          "base_uri": "https://localhost:8080/"
        },
        "id": "LsfcfveLXcls",
        "outputId": "40b38667-3739-4143-f9e7-3aab79061164"
      },
      "outputs": [
        {
          "output_type": "stream",
          "name": "stdout",
          "text": [
            "Requirement already satisfied: gdown in /usr/local/lib/python3.11/dist-packages (5.2.0)\n",
            "Requirement already satisfied: beautifulsoup4 in /usr/local/lib/python3.11/dist-packages (from gdown) (4.13.4)\n",
            "Requirement already satisfied: filelock in /usr/local/lib/python3.11/dist-packages (from gdown) (3.18.0)\n",
            "Requirement already satisfied: requests[socks] in /usr/local/lib/python3.11/dist-packages (from gdown) (2.32.3)\n",
            "Requirement already satisfied: tqdm in /usr/local/lib/python3.11/dist-packages (from gdown) (4.67.1)\n",
            "Requirement already satisfied: soupsieve>1.2 in /usr/local/lib/python3.11/dist-packages (from beautifulsoup4->gdown) (2.7)\n",
            "Requirement already satisfied: typing-extensions>=4.0.0 in /usr/local/lib/python3.11/dist-packages (from beautifulsoup4->gdown) (4.14.0)\n",
            "Requirement already satisfied: charset-normalizer<4,>=2 in /usr/local/lib/python3.11/dist-packages (from requests[socks]->gdown) (3.4.2)\n",
            "Requirement already satisfied: idna<4,>=2.5 in /usr/local/lib/python3.11/dist-packages (from requests[socks]->gdown) (3.10)\n",
            "Requirement already satisfied: urllib3<3,>=1.21.1 in /usr/local/lib/python3.11/dist-packages (from requests[socks]->gdown) (2.4.0)\n",
            "Requirement already satisfied: certifi>=2017.4.17 in /usr/local/lib/python3.11/dist-packages (from requests[socks]->gdown) (2025.6.15)\n",
            "Requirement already satisfied: PySocks!=1.5.7,>=1.5.6 in /usr/local/lib/python3.11/dist-packages (from requests[socks]->gdown) (1.7.1)\n"
          ]
        }
      ],
      "source": [
        "! pip install gdown"
      ]
    },
    {
      "cell_type": "code",
      "execution_count": null,
      "metadata": {
        "colab": {
          "base_uri": "https://localhost:8080/"
        },
        "id": "Ecg_XypNuKmA",
        "outputId": "320fa903-a186-4a37-9972-965483de185d"
      },
      "outputs": [
        {
          "output_type": "stream",
          "name": "stdout",
          "text": [
            "Requirement already satisfied: gdown in /usr/local/lib/python3.11/dist-packages (5.2.0)\n",
            "Requirement already satisfied: beautifulsoup4 in /usr/local/lib/python3.11/dist-packages (from gdown) (4.13.4)\n",
            "Requirement already satisfied: filelock in /usr/local/lib/python3.11/dist-packages (from gdown) (3.18.0)\n",
            "Requirement already satisfied: requests[socks] in /usr/local/lib/python3.11/dist-packages (from gdown) (2.32.3)\n",
            "Requirement already satisfied: tqdm in /usr/local/lib/python3.11/dist-packages (from gdown) (4.67.1)\n",
            "Requirement already satisfied: soupsieve>1.2 in /usr/local/lib/python3.11/dist-packages (from beautifulsoup4->gdown) (2.7)\n",
            "Requirement already satisfied: typing-extensions>=4.0.0 in /usr/local/lib/python3.11/dist-packages (from beautifulsoup4->gdown) (4.14.0)\n",
            "Requirement already satisfied: charset-normalizer<4,>=2 in /usr/local/lib/python3.11/dist-packages (from requests[socks]->gdown) (3.4.2)\n",
            "Requirement already satisfied: idna<4,>=2.5 in /usr/local/lib/python3.11/dist-packages (from requests[socks]->gdown) (3.10)\n",
            "Requirement already satisfied: urllib3<3,>=1.21.1 in /usr/local/lib/python3.11/dist-packages (from requests[socks]->gdown) (2.4.0)\n",
            "Requirement already satisfied: certifi>=2017.4.17 in /usr/local/lib/python3.11/dist-packages (from requests[socks]->gdown) (2025.6.15)\n",
            "Requirement already satisfied: PySocks!=1.5.7,>=1.5.6 in /usr/local/lib/python3.11/dist-packages (from requests[socks]->gdown) (1.7.1)\n"
          ]
        }
      ],
      "source": [
        "!pip install gdown -U --no-cache-dir"
      ]
    },
    {
      "cell_type": "code",
      "execution_count": null,
      "metadata": {
        "colab": {
          "base_uri": "https://localhost:8080/"
        },
        "id": "7bR5RruDYurc",
        "outputId": "dce6e875-b4b7-4a67-9794-2ed090c7019a"
      },
      "outputs": [
        {
          "output_type": "stream",
          "name": "stdout",
          "text": [
            "Mounted at /content/drive\n"
          ]
        }
      ],
      "source": [
        "from google.colab import drive\n",
        "drive.mount('/content/drive')"
      ]
    },
    {
      "cell_type": "code",
      "execution_count": null,
      "metadata": {
        "id": "T7eoFhU6kwkD"
      },
      "outputs": [],
      "source": [
        "import gdown\n",
        "import os\n",
        "from tqdm import tqdm #pregress bar for fancy\n",
        "import shutil"
      ]
    },
    {
      "cell_type": "markdown",
      "metadata": {
        "id": "0Iz3TjW1cR5d"
      },
      "source": [
        "# CSV"
      ]
    },
    {
      "cell_type": "code",
      "execution_count": null,
      "metadata": {
        "id": "WA_-OLEfab5T"
      },
      "outputs": [],
      "source": [
        "import pandas as pd\n",
        "\n",
        "df = pd.read_csv('/content/drive/MyDrive/odos_additional_docs/odos_data.csv')"
      ]
    },
    {
      "cell_type": "code",
      "execution_count": null,
      "metadata": {
        "id": "MkJGr3O8d4Hu"
      },
      "outputs": [],
      "source": [
        "df.head(3)"
      ]
    },
    {
      "cell_type": "code",
      "source": [
        "df.columns"
      ],
      "metadata": {
        "id": "qD8eANU3lP5a"
      },
      "execution_count": null,
      "outputs": []
    },
    {
      "cell_type": "code",
      "execution_count": null,
      "metadata": {
        "colab": {
          "base_uri": "https://localhost:8080/"
        },
        "collapsed": true,
        "id": "_2ZgaDfDct1I",
        "outputId": "db084d45-5a10-41b4-d3fc-75e51a1011e2"
      },
      "outputs": [
        {
          "output_type": "stream",
          "name": "stdout",
          "text": [
            "['6_S18027386004_อรณิชชา_อินทับทัน', '7_S18039734800_ศศิวิมน_ร้อยทา', '8_S71045472230_นวเรศ_เตียงเกตุ', '9_S53029968565_ภิรัญญา_พุฒลา', '10_S31005914138_ขรินทร์ทิพย์_เอี่ยมสร้อย', '12_S43010244041_สุธาสินี_โตส้ม', '13_S12011187271_วีรวินน์_ไหล่บุญญานุภาพ', '17_S36036563400_รัฐศาสตร์_บุญกอด', '18_S45041892548_กมลชนก _แสงมณี', '20_S12016450251_ปุญญาภา_ตรีสุวรรณ', '22_S20039108603_ธนนันต์_ ยอดไธสง', '24_S81024351042_ปริยาภัทร_อังคะฮาด', '25_S11006608061_แพรวนารา_แสงสำราญ', '28_S91035861740_มูฮัมหมัดอับบาส_แก้วสลำ', '29_S95007997434_ธันยากานต์_วัฒนศิริภาวงศ์', '30_S70002142046_เพียงออ_ชมชื่น', '31_S21023445822_สุจิรา_พะวันรัมย์', '33_S10012902148_วิมลภักดิ์_นำบุญแสง', '34_S43026316408_กฤษณา_แสงสุพงษ์', '35_S34031023422_รัตนธิดา_จันทรกาญจน์', '36_S10036050300_ณิชากร_นิภาธรวงษ์', '37_S10031545168_พีรวิชญ์_เชี่ยววิทย์', '38_S21007131727_ศรัณยพงศ์_กุลภัทร์วัฒนา', '39_S37035232564_สรชา_บุญมี', '40_S90035966482_ซัมซีย๊ะห์_โดโซมิ', '41_S57032232226_เปมิกา_เเซ่จึง', '43_S16003828555_พรธิตา_คุ้มครอง', '44_S84029208528_เมธัส_บัวทองบุญ', '45_S10028893530_ทวีปพงษ์_สุมะนัสชัย', '46_S10036250053_เกรส_อารยกาญจน์', '48_S50028596778_ธารริน_หล้าอินสม', '49_S46042730144_พิชามญชุ์ _คำวิโส', '52_S12027156574_จิราภรณ์_เปาริก', '53_S60026642623_ปัณชญา_กุหลาบศรี', '54_S43013430064_กลวัชร_อาจวงษา', '57_S10036706007_เมธี_คำบุญศรี', '58_S81023395246_คณิศร _ศรีสุข', '59_S96034888457_นูรอายูนี_แมเร๊าะ', '60_S45041892548_กมลชนก_แสงมณั', '62_S10030041801_ธภัทร_สพรั่งผล', '63_S12032061120_จิรวัฒน์_มะโนวรรณ์', '64_S10009810053_ธัญธร_โลหะบัณฑิตวงศ์', '65_S12035492268_ณัฐวรา_ลองศรี', '66_S13005853640_ธราธาร_พรมพุ้ย', '67_S24010760136_นทภัชณัช_กุณคำ', '68_S13026916878_ปฏิภาณ_ยศไธสง', '70_S10038352675_พิชญาภา_ปัญญาอรรถ', '71_S10040812741_ชัยกฤต_กิติวัฒนบำรุง', '72_S46038983445_ธัญจิรา_ดอกจันทร์', '74_S65036635467_วรินรัตน์_แดงเผือก', '75_S10015344382_จินดาโชติ_พงษ์พรต', '76_S45042677287_ปาลิตา _มูลทรัพย์', '77_S92027706022_นัจญมี_หลีเอบ', '78_S58013331871_ธนภร_ทิมผ่องใส', '79_S50029602666_ปิยธิดา_มงคล', '80_S30026461601_ณฐา_แสงแก้ว', '81_S10009971382_กันชลิกา_สุวรรณ์', '82_S77031566460_นิรินธน์_อนุรักษ์วงษ์', '83_S94032771066_มูนีเราะห์_กียะ', '91_S74023686684_ภูดิส_สุวรรณจินดา', '92_S10004483248_อรปรียา_เคนสุวรรณ์', '94_S40043858811_ธนกฤต_พวงธรรม', '95_S67030295455_ฉัตริณ_ตันติบูล', '96_S39024006705_ชวิศสิฐ_ภูกองชัย', '97_S10041765422_วรนัยน์_นางาซาวา', '98_S20029985315_เบญญาภา_บุญประโคน', '99_S12031554451_ธันยพร_สุริยวรากุล', '100_S22006958248_ปุนิกา_ยอดอานนท์', '101_S14026161275_ภูริชญา_ภู่ขาว', '103_S86032507087_วรินทร_ชุมเกษียร', '104_S95036794247_รีมาส_กะรุมอ', '105_S46035718784_ธัญรัศม์_สุดจันทร์ฮาม', '106_S63037026014_จิดาภา_คำขาม', '107_S44037446116_รุ่งไพลิน_แสนโคตร', '108_S82028131446_ธรณ์เทพ_สโมสร', '109_S47030486408_ณัฐรภา_ไชยสาคร', '110_S39025418626_ศิรดา_กรณ์งูเหลือม', '111_S75026758161_ชัญญานุช_พลกำพนธ์', '112_S75027225855_ปภาวรินทร์_บุณยานันทน์', '113_S21029074747_ระวิวรรณ_วิปัดทุม', '114_S71035487082_วธิดา_แก้วกระจ่าง', '116_S10034633175_ธีรวัจณ์_อุปการะ', '117_S11032450656_ศุภาพิชญ์_ฉ่ำรัศมี', '118_S10039710221_ชุติกาญจน์_กันทะวงค์', '119_S71005944311_อาภัสรา_เพชรดำดี', '120_S52025932770_ศิวินทรา_ปวงแก้ว', '121_S20004252166_คณาธิป_เพ็งนาม', '122_S10028748557_ศินะพร_วัฒนะนนท์ชัย', '123_S10027038883_นงนภัส_โลหะเวโรจน์', '124_S71037870566_ทอฝัน_ยั่งยืน', '125_S60006234511_ธัญชนิต_พิลึก', '126_S20025270213_ธารารัตน์_ตะวงษา', '127_S53029611247_อัศวิน_สิงเหม', '128_S10039617478_คณพศ_โมคมะเลิง', '129_S60005598486_ชิสา _วงษ์สุนทร', '131_S45044182813_พงศ์ธนสรณ์_ทิพประมวล', '132_S49034021647_ดาวไสว_บุญเรืองนาม', '133_S40029324624_เขมณัฏฐ์_หิรัญวรวิทย์', '134_S24045171200_ปริชญา_อะจะระกุล', '135_S10041000567_ณภัทร _พุฒเนียม', '136_S16036154371_ณัฏฐณิชา_กันภัย', '137_S44039053250_พรอธิปไตย _วีระการณ์', '138_S93040642675_อารยา_แวววรรณจิต', '139_S73031282871_วรรณภัสสรณ์_กลิ่นระรวย', '140_S23030785663_ราชธรรม_ลุนสะแกวงษ์', '141_S52034421477_ภูมิพลัง_เนียมวัฒนะ', '142_S26037927137_จิรกานต์_กีรติกานต์ชัย', '143_S10043441601_ณภัทร์_ศิวิไล', '144_S15030895458_ธัญญรัตน์_หล่อประเสริฐ', '145_S51012283738_วิภาดา_ไชยสมบัติ', '146_S96002970857_เกาษัร_เล๊าะเเว', '147_S10028076467_วรรณณวลัญช์_เจริญสุข', '148_S76043936655_ธีรัฐพล_งามพงษ์พรรณ', '150_S90005390278_ภาคิน_มุณีแนม', '151_S47038847132_ภาวิตา_เทพสุรินทร์', '152_S44028613032_นันทภัค_แสงมหาชัย', '153_S18036198441_กลทีป์_เมืองดี', '154_S75039670472_ศศิพงษ์_สุขเสาววิมล', '155_S10034132308_รัล_จูฑะพันธุ์', '156_S53045307071_กฤษณะพัทธ์_สันตะ', '157_S84028760062_มาศมาตา_ศุภกรชูวงศ์', '158_S50035891427_คณาธิป _บุญมาเชย', '159_S84019556428_พรรชสรร_สิทธิชู', '160_S33029734522_ศศิภา _ระหาร', '161_S91014895842_อุลญา_ดำท่าคลอง', '162_S77012688511_เตชินท์_ผลวัฒนะ', '163_S34033385534_คุณัญญา_บุญขจร', '164_S10005751152_ภัชชญา _แซ่โท้ว', '165_S50010252005_ธนกร_จานคุณ', '166_S31028664462_พรพรหม_มังคะชาติ', '167_S41030633308_อนัญญา_มุมกลาง', '169_S84032080863_วิรชัช_พยัคฆา', '170_S50045566306_รักษิณา _ต๊ะสู้', '171_S92044336076_กันต์กษิดิ์เดช _อภิศุทธิคำพร', '172_S57035574401_พงษ์สิริ _เมฆวิลัย', '173_S40024508852_ปภาวรินท์_สุราสา', '174_S10024433687_กุลยา_พิมดี', '176_S32036856521_ภัควัฒน์_ดวงรัตน์', '177_S12031704353_วีรวงศ์_แช่มพงษ์อนันท์', '178_S30040996404_พลอยน้ำเงิน_น้ำทิพย์', '180_S95044406086_ฟิรดาวส์ _บ่าวเบ็ญหมัด', '181_S10034908413_ศิวาภรณ์_ชัยถาวรกิจ', '182_S11026497317_จักรพล_หูมวงศ์', '183_S10043245145_ปัณฑิฌา_ดอนสกุล', '184_S96012416508_พรรณพัชร_ปุย ', '186_S44010788622_นันทกร_ปาปะโน', '187_S90007170616_ฟ้าใส_เจริญศรี', '189_S41038476832_ปุญญตา _แพสยันดร', '190_S10036730100_เทวกร_ตันติวิทยากุล', '191_S90035660803_คศวัตร_สาเเละ', '192_S44026560375_นิภารัตน์_ไชยเดช', '193_S36016816166_ไท _ถนอมไธสง', '194_S31044807841_สุธาสินี _ศรีเนาว์รัตน์', '195_S12001473170_ปฐมากรณ์_ระเบียบ', '196_S41031887656_สกุลทิพย์_กิติราช', '197_S38032892016_พรรณรวี _ด้วงพุฒ', '198_S44043360777_ธนากร_จำปาสอน', '199_S10034086415_สิดาพร_เหมาะราษีร์', '200_S42038631387_พาสุข_แก้วใสย์', '201_S95040513173_อัสมาอ์_สะมะดะแมง', '202_S33037634541_อภิรดา_มณีวรรณ', '203_S10040276206_ชิษณุพงศ์_วิริยะศิริพงศ์กูล', '204_S71045280722_โสรัชดาพักตร์_ผู้มีจรรยา', '206_S61030586760_จิรัชญา_หะชะยัง', '207_S92042860378_แทนคุณ_นิลปักษี']\n",
            "165\n"
          ]
        }
      ],
      "source": [
        "col_ls = ['Id', 'รหัสใบสมัคร', 'ชื่อ (ภาษาไทย)', 'นามสกุล (ภาษาไทย)', 'เอกสารสำคัญ Google Drive Link (Shared)']\n",
        "\n",
        "#col name\n",
        "id = 'Id'\n",
        "id_s = 'รหัสใบสมัคร'\n",
        "fname = 'ชื่อ (ภาษาไทย)'\n",
        "lname = 'นามสกุล (ภาษาไทย)'\n",
        "glink = 'เอกสารสำคัญ Google Drive Link (Shared)'\n",
        "\n",
        "df = df[col_ls]\n",
        "\n",
        "folder_name_ls = [f\"{row[id]}_{row[id_s]}_{row[fname]}_{row[lname]}\" for index, row in df.iterrows()]\n",
        "\n",
        "\n",
        "print(folder_name_ls)\n",
        "print(len(folder_name_ls))\n",
        "\n",
        "#180"
      ]
    },
    {
      "cell_type": "code",
      "execution_count": null,
      "metadata": {
        "id": "IZ2NT_d1fuHn"
      },
      "outputs": [],
      "source": [
        "#gdrive link list\n",
        "\n",
        "gdrive_link_ls = [ l for l in df[glink]]\n",
        "\n",
        "print(gdrive_link_ls[5])\n",
        "print(len(gdrive_link_ls))"
      ]
    },
    {
      "cell_type": "code",
      "execution_count": null,
      "metadata": {
        "id": "lfYTchAKjvpR"
      },
      "outputs": [],
      "source": [
        "mapped_ls = list(zip(folder_name_ls, gdrive_link_ls))\n",
        "print(mapped_ls)"
      ]
    },
    {
      "cell_type": "code",
      "execution_count": null,
      "metadata": {
        "id": "9yK87SgOsE6_"
      },
      "outputs": [],
      "source": [
        "#test link download\n",
        "\n",
        "link_1 = mapped_ls[0][1]\n",
        "name_1 = mapped_ls[0][0]\n",
        "print(name_1)\n",
        "print(link_1)"
      ]
    },
    {
      "cell_type": "code",
      "execution_count": null,
      "metadata": {
        "id": "m5hqNpu5pKV4"
      },
      "outputs": [],
      "source": [
        "#download all file in folder\n",
        "\n",
        "# gdown.download_folder(link_1)"
      ]
    },
    {
      "cell_type": "code",
      "execution_count": null,
      "metadata": {
        "id": "LqWU5khaqgnt"
      },
      "outputs": [],
      "source": [
        "#create dir by foldername list\n",
        "d_root = '/content/drive/MyDrive/odos_additional_docs/odos_docs_folder'"
      ]
    },
    {
      "cell_type": "code",
      "execution_count": null,
      "metadata": {
        "id": "F5uohG3Pqkv2"
      },
      "outputs": [],
      "source": [
        "#test download with gdown\n",
        "# file_id = os.path.basename(mapped_ls[0][1]).split('=')[-1]\n",
        "# file_name = file_id\n",
        "# output_path = os.path.join(d_root, file_name)\n",
        "\n",
        "# gdown.download(mapped_ls[0][1], output_path, quiet=True, fuzzy=True)"
      ]
    },
    {
      "cell_type": "markdown",
      "source": [
        "## Download mapped file (name-file) from gdrive"
      ],
      "metadata": {
        "id": "DBWzVeRWbRWO"
      }
    },
    {
      "cell_type": "code",
      "execution_count": null,
      "metadata": {
        "id": "E_cJlNE4XhEd"
      },
      "outputs": [],
      "source": [
        "import os\n",
        "import gdown\n",
        "from tqdm import tqdm\n",
        "\n",
        "os.makedirs(d_root, exist_ok=True)\n",
        "\n",
        "for fname, glink in tqdm(mapped_ls, desc=\"Downloading all files\"):\n",
        "    dest_folder = os.path.join(d_root, fname)\n",
        "    os.makedirs(dest_folder, exist_ok=True)\n",
        "\n",
        "    try:\n",
        "        gdown.download_folder(url=glink, output=dest_folder, quiet=True, use_cookies=False)\n",
        "        print(f\"Downloaded folder from {fname}, link: {glink}\")\n",
        "    except Exception as e:\n",
        "        print(f\"Failed to download folder from {fname}, link: {glink} — {e}\")\n",
        "\n"
      ]
    },
    {
      "cell_type": "code",
      "execution_count": null,
      "metadata": {
        "id": "TXd9vPx0YT9l"
      },
      "outputs": [],
      "source": []
    }
  ],
  "metadata": {
    "colab": {
      "provenance": [],
      "authorship_tag": "ABX9TyNJk3TMZFh9ekl//DVIozno",
      "include_colab_link": true
    },
    "kernelspec": {
      "display_name": "Python 3",
      "name": "python3"
    },
    "language_info": {
      "name": "python"
    }
  },
  "nbformat": 4,
  "nbformat_minor": 0
}