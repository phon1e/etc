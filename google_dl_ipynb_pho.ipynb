{
  "cells": [
    {
      "cell_type": "markdown",
      "metadata": {
        "id": "view-in-github",
        "colab_type": "text"
      },
      "source": [
        "<a href=\"https://colab.research.google.com/github/phon1e/etc/blob/main/google_dl_ipynb_pho.ipynb\" target=\"_parent\"><img src=\"https://colab.research.google.com/assets/colab-badge.svg\" alt=\"Open In Colab\"/></a>"
      ]
    },
    {
      "cell_type": "markdown",
      "metadata": {
        "id": "gw2uyMbpXW6w"
      },
      "source": [
        "# download lib"
      ]
    },
    {
      "cell_type": "code",
      "execution_count": null,
      "metadata": {
        "colab": {
          "base_uri": "https://localhost:8080/"
        },
        "id": "LsfcfveLXcls",
        "outputId": "40b38667-3739-4143-f9e7-3aab79061164"
      },
      "outputs": [
        {
          "output_type": "stream",
          "name": "stdout",
          "text": [
            "Requirement already satisfied: gdown in /usr/local/lib/python3.11/dist-packages (5.2.0)\n",
            "Requirement already satisfied: beautifulsoup4 in /usr/local/lib/python3.11/dist-packages (from gdown) (4.13.4)\n",
            "Requirement already satisfied: filelock in /usr/local/lib/python3.11/dist-packages (from gdown) (3.18.0)\n",
            "Requirement already satisfied: requests[socks] in /usr/local/lib/python3.11/dist-packages (from gdown) (2.32.3)\n",
            "Requirement already satisfied: tqdm in /usr/local/lib/python3.11/dist-packages (from gdown) (4.67.1)\n",
            "Requirement already satisfied: soupsieve>1.2 in /usr/local/lib/python3.11/dist-packages (from beautifulsoup4->gdown) (2.7)\n",
            "Requirement already satisfied: typing-extensions>=4.0.0 in /usr/local/lib/python3.11/dist-packages (from beautifulsoup4->gdown) (4.14.0)\n",
            "Requirement already satisfied: charset-normalizer<4,>=2 in /usr/local/lib/python3.11/dist-packages (from requests[socks]->gdown) (3.4.2)\n",
            "Requirement already satisfied: idna<4,>=2.5 in /usr/local/lib/python3.11/dist-packages (from requests[socks]->gdown) (3.10)\n",
            "Requirement already satisfied: urllib3<3,>=1.21.1 in /usr/local/lib/python3.11/dist-packages (from requests[socks]->gdown) (2.4.0)\n",
            "Requirement already satisfied: certifi>=2017.4.17 in /usr/local/lib/python3.11/dist-packages (from requests[socks]->gdown) (2025.6.15)\n",
            "Requirement already satisfied: PySocks!=1.5.7,>=1.5.6 in /usr/local/lib/python3.11/dist-packages (from requests[socks]->gdown) (1.7.1)\n"
          ]
        }
      ],
      "source": [
        "! pip install gdown"
      ]
    },
    {
      "cell_type": "code",
      "execution_count": null,
      "metadata": {
        "colab": {
          "base_uri": "https://localhost:8080/"
        },
        "id": "Ecg_XypNuKmA",
        "outputId": "320fa903-a186-4a37-9972-965483de185d"
      },
      "outputs": [
        {
          "output_type": "stream",
          "name": "stdout",
          "text": [
            "Requirement already satisfied: gdown in /usr/local/lib/python3.11/dist-packages (5.2.0)\n",
            "Requirement already satisfied: beautifulsoup4 in /usr/local/lib/python3.11/dist-packages (from gdown) (4.13.4)\n",
            "Requirement already satisfied: filelock in /usr/local/lib/python3.11/dist-packages (from gdown) (3.18.0)\n",
            "Requirement already satisfied: requests[socks] in /usr/local/lib/python3.11/dist-packages (from gdown) (2.32.3)\n",
            "Requirement already satisfied: tqdm in /usr/local/lib/python3.11/dist-packages (from gdown) (4.67.1)\n",
            "Requirement already satisfied: soupsieve>1.2 in /usr/local/lib/python3.11/dist-packages (from beautifulsoup4->gdown) (2.7)\n",
            "Requirement already satisfied: typing-extensions>=4.0.0 in /usr/local/lib/python3.11/dist-packages (from beautifulsoup4->gdown) (4.14.0)\n",
            "Requirement already satisfied: charset-normalizer<4,>=2 in /usr/local/lib/python3.11/dist-packages (from requests[socks]->gdown) (3.4.2)\n",
            "Requirement already satisfied: idna<4,>=2.5 in /usr/local/lib/python3.11/dist-packages (from requests[socks]->gdown) (3.10)\n",
            "Requirement already satisfied: urllib3<3,>=1.21.1 in /usr/local/lib/python3.11/dist-packages (from requests[socks]->gdown) (2.4.0)\n",
            "Requirement already satisfied: certifi>=2017.4.17 in /usr/local/lib/python3.11/dist-packages (from requests[socks]->gdown) (2025.6.15)\n",
            "Requirement already satisfied: PySocks!=1.5.7,>=1.5.6 in /usr/local/lib/python3.11/dist-packages (from requests[socks]->gdown) (1.7.1)\n"
          ]
        }
      ],
      "source": [
        "!pip install gdown -U --no-cache-dir"
      ]
    },
    {
      "cell_type": "code",
      "execution_count": null,
      "metadata": {
        "colab": {
          "base_uri": "https://localhost:8080/"
        },
        "id": "7bR5RruDYurc",
        "outputId": "dce6e875-b4b7-4a67-9794-2ed090c7019a"
      },
      "outputs": [
        {
          "output_type": "stream",
          "name": "stdout",
          "text": [
            "Mounted at /content/drive\n"
          ]
        }
      ],
      "source": [
        "from google.colab import drive\n",
        "drive.mount('/content/drive')"
      ]
    },
    {
      "cell_type": "code",
      "execution_count": null,
      "metadata": {
        "id": "T7eoFhU6kwkD"
      },
      "outputs": [],
      "source": [
        "import gdown\n",
        "import os\n",
        "from tqdm import tqdm #pregress bar for fancy\n",
        "import shutil"
      ]
    },
    {
      "cell_type": "markdown",
      "metadata": {
        "id": "0Iz3TjW1cR5d"
      },
      "source": [
        "# CSV"
      ]
    },
    {
      "cell_type": "code",
      "execution_count": null,
      "metadata": {
        "id": "WA_-OLEfab5T"
      },
      "outputs": [],
      "source": [
        "import pandas as pd\n",
        "\n",
        "df = pd.read_csv('/content/drive/MyDrive/odos_additional_docs/odos_data.csv')"
      ]
    },
    {
      "cell_type": "code",
      "execution_count": null,
      "metadata": {
        "id": "MkJGr3O8d4Hu"
      },
      "outputs": [],
      "source": [
        "df.head(3)"
      ]
    },
    {
      "cell_type": "code",
      "source": [
        "df.columns"
      ],
      "metadata": {
        "id": "qD8eANU3lP5a"
      },
      "execution_count": null,
      "outputs": []
    },
    {
      "cell_type": "code",
      "execution_count": 2,
      "metadata": {
        "id": "_2ZgaDfDct1I"
      },
      "outputs": [],
      "source": [
        "col_ls = ['Id', 'รหัสใบสมัคร', 'ชื่อ (ภาษาไทย)', 'นามสกุล (ภาษาไทย)', 'เอกสารสำคัญ Google Drive Link (Shared)']\n",
        "\n",
        "#col name\n",
        "id = 'Id'\n",
        "id_s = 'รหัสใบสมัคร'\n",
        "fname = 'ชื่อ (ภาษาไทย)'\n",
        "lname = 'นามสกุล (ภาษาไทย)'\n",
        "glink = 'เอกสารสำคัญ Google Drive Link (Shared)'\n",
        "\n",
        "df = df[col_ls]\n",
        "\n",
        "folder_name_ls = [f\"{row[id]}_{row[id_s]}_{row[fname]}_{row[lname]}\" for index, row in df.iterrows()]\n",
        "\n",
        "\n",
        "# print(folder_name_ls)\n",
        "# print(len(folder_name_ls))\n",
        "\n",
        "#180"
      ]
    },
    {
      "cell_type": "code",
      "execution_count": null,
      "metadata": {
        "id": "IZ2NT_d1fuHn"
      },
      "outputs": [],
      "source": [
        "#gdrive link list\n",
        "\n",
        "gdrive_link_ls = [ l for l in df[glink]]\n",
        "\n",
        "print(gdrive_link_ls[5])\n",
        "print(len(gdrive_link_ls))"
      ]
    },
    {
      "cell_type": "code",
      "execution_count": null,
      "metadata": {
        "id": "lfYTchAKjvpR"
      },
      "outputs": [],
      "source": [
        "mapped_ls = list(zip(folder_name_ls, gdrive_link_ls))\n",
        "print(mapped_ls)"
      ]
    },
    {
      "cell_type": "code",
      "execution_count": null,
      "metadata": {
        "id": "9yK87SgOsE6_"
      },
      "outputs": [],
      "source": [
        "#test link download\n",
        "\n",
        "link_1 = mapped_ls[0][1]\n",
        "name_1 = mapped_ls[0][0]\n",
        "print(name_1)\n",
        "print(link_1)"
      ]
    },
    {
      "cell_type": "code",
      "execution_count": null,
      "metadata": {
        "id": "m5hqNpu5pKV4"
      },
      "outputs": [],
      "source": [
        "#download all file in folder\n",
        "\n",
        "# gdown.download_folder(link_1)"
      ]
    },
    {
      "cell_type": "code",
      "execution_count": null,
      "metadata": {
        "id": "LqWU5khaqgnt"
      },
      "outputs": [],
      "source": [
        "#create dir by foldername list\n",
        "d_root = '/content/drive/MyDrive/odos_additional_docs/odos_docs_folder'"
      ]
    },
    {
      "cell_type": "code",
      "execution_count": null,
      "metadata": {
        "id": "F5uohG3Pqkv2"
      },
      "outputs": [],
      "source": [
        "#test download with gdown\n",
        "# file_id = os.path.basename(mapped_ls[0][1]).split('=')[-1]\n",
        "# file_name = file_id\n",
        "# output_path = os.path.join(d_root, file_name)\n",
        "\n",
        "# gdown.download(mapped_ls[0][1], output_path, quiet=True, fuzzy=True)"
      ]
    },
    {
      "cell_type": "markdown",
      "source": [
        "## Download mapped file (name-file) from gdrive"
      ],
      "metadata": {
        "id": "DBWzVeRWbRWO"
      }
    },
    {
      "cell_type": "code",
      "execution_count": null,
      "metadata": {
        "id": "E_cJlNE4XhEd"
      },
      "outputs": [],
      "source": [
        "import os\n",
        "import gdown\n",
        "from tqdm import tqdm\n",
        "\n",
        "os.makedirs(d_root, exist_ok=True)\n",
        "\n",
        "for fname, glink in tqdm(mapped_ls, desc=\"Downloading all files\"):\n",
        "    dest_folder = os.path.join(d_root, fname)\n",
        "    os.makedirs(dest_folder, exist_ok=True)\n",
        "\n",
        "    try:\n",
        "        gdown.download_folder(url=glink, output=dest_folder, quiet=True, use_cookies=False)\n",
        "        print(f\"Downloaded folder from {fname}, link: {glink}\")\n",
        "    except Exception as e:\n",
        "        print(f\"Failed to download folder from {fname}, link: {glink} — {e}\")\n",
        "\n"
      ]
    },
    {
      "cell_type": "code",
      "execution_count": null,
      "metadata": {
        "id": "TXd9vPx0YT9l"
      },
      "outputs": [],
      "source": []
    }
  ],
  "metadata": {
    "colab": {
      "provenance": [],
      "authorship_tag": "ABX9TyObTZynwYHbtu7cJMsaAl/3",
      "include_colab_link": true
    },
    "kernelspec": {
      "display_name": "Python 3",
      "name": "python3"
    },
    "language_info": {
      "name": "python"
    }
  },
  "nbformat": 4,
  "nbformat_minor": 0
}